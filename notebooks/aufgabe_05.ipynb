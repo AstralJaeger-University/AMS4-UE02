{
 "cells": [
  {
   "cell_type": "code",
   "id": "initial_id",
   "metadata": {
    "collapsed": true
   },
   "source": [
    "import os\n",
    "\n",
    "import networkx as nx\n",
    "from IPython.display import Image\n",
    "from networkx.drawing.nx_agraph import to_agraph\n",
    "\n",
    "# Ensure the assets directory exists\n",
    "prefix = \"aufgabe_05\"\n",
    "basepath = os.path.join('assets', 'aufgabe_05')\n",
    "os.makedirs(basepath, exist_ok=True)"
   ],
   "outputs": [],
   "execution_count": null
  },
  {
   "metadata": {},
   "cell_type": "markdown",
   "source": "# Aufgabe 05",
   "id": "7ecf01582a4c793a"
  },
  {
   "metadata": {},
   "cell_type": "code",
   "source": [
    "graph = nx.Graph()\n",
    "graph.add_nodes_from([\n",
    "    ('s', {'heuristic': 45}),\n",
    "    ('a', {'heuristic': 40}),\n",
    "    ('b', {'heuristic': 35}),\n",
    "    ('c', {'heuristic': 38}),\n",
    "    ('d', {'heuristic': 48}),\n",
    "    ('e', {'heuristic': 55}),\n",
    "    ('f', {'heuristic': 50}),\n",
    "    ('g', {'heuristic': 21}),\n",
    "    ('h', {'heuristic': 20}),\n",
    "    ('i', {'heuristic': 26}),\n",
    "    ('z', {'heuristic': 0}),\n",
    "])\n",
    "\n",
    "graph.add_edges_from([\n",
    "    ('s', 'a',  {'weight': 11}),\n",
    "    ('s', 'b',  {'weight': 10}),\n",
    "    ('s', 'c',  {'weight': 7}),\n",
    "    ('s', 'd',  {'weight': 7}),\n",
    "    ('s', 'e',  {'weight': 10}),\n",
    "    ('s', 'f',  {'weight': 8}),\n",
    "    ('a', 'b',  {'weight': 7}),\n",
    "    ('a', 'f',  {'weight': 10}),\n",
    "    ('a', 'g',  {'weight': 22}),\n",
    "    ('b', 'c',  {'weight': 8}),\n",
    "    ('b', 'g',  {'weight': 19}),\n",
    "    ('b', 'i',  {'weight': 12}),\n",
    "    ('c', 'd',  {'weight': 10}),\n",
    "    ('c', 'i',  {'weight': 12}),\n",
    "    ('d', 'e',  {'weight': 9}),\n",
    "    ('e', 'f',  {'weight': 9}),\n",
    "    ('g', 'h',  {'weight': 8}),\n",
    "    ('g', 'z',  {'weight': 24}),\n",
    "    ('h', 'i',  {'weight': 9}),\n",
    "    ('h', 'z',  {'weight': 22}),\n",
    "    ('i', 'z',  {'weight': 32}),\n",
    "])"
   ],
   "id": "94e937831d5b7842",
   "outputs": [],
   "execution_count": null
  },
  {
   "metadata": {},
   "cell_type": "code",
   "source": [
    "def draw_step(a, n, e, filename):\n",
    "    # Visualize Step\n",
    "    a.get_node(n).attr['color'] = 'red'\n",
    "    if e:\n",
    "        a.get_edge(e[0], e[1]).attr['color'] = 'red'\n",
    "    a.draw(filename, format='png', prog='dot')\n",
    "    display(Image(filename))"
   ],
   "id": "afc6902802b69055",
   "outputs": [],
   "execution_count": null
  },
  {
   "metadata": {},
   "cell_type": "code",
   "source": [
    "def color_gradient(start_color, end_color, index, steps):\n",
    "    r = int(start_color[0] + (end_color[0] - start_color[0]) * index / (steps - 1))\n",
    "    g = int(start_color[1] + (end_color[1] - start_color[1]) * index / (steps - 1))\n",
    "    b = int(start_color[2] + (end_color[2] - start_color[2]) * index / (steps - 1))\n",
    "    return f'#{hex(r).replace(\"0x\", \"\"):02}{hex(g).replace(\"0x\", \"\"):02}{hex(b).replace(\"0x\", \"\"):02}'"
   ],
   "id": "6e59f9cd29996f03",
   "outputs": [],
   "execution_count": null
  },
  {
   "metadata": {},
   "cell_type": "markdown",
   "source": "# Djikstra",
   "id": "76d996297c76486c"
  },
  {
   "metadata": {},
   "cell_type": "code",
   "source": [
    "def dijkstra(graph: nx.Graph, start: str, end: str):\n",
    "    F = set()\n",
    "    dist = {node: float('inf') for node in graph.nodes()}\n",
    "    W = {node: [] for node in graph.nodes()}\n",
    "    dist[start] = 0\n",
    "    W[start] = [start]\n",
    "    \n",
    "    while end not in F:\n",
    "        # Find the node with the smallest distance\n",
    "        v_star = min((node for node in dist if node not in F), key=lambda node: dist[node])\n",
    "\n",
    "        # Add this node to the set of finished nodes\n",
    "        F.add(v_star)\n",
    "\n",
    "        # Debug output for each iteration\n",
    "        print(f\"F: {F} - dist: {dist} - W: {W}\")\n",
    "\n",
    "        for neighbor in graph.neighbors(v_star):\n",
    "            if neighbor not in F:\n",
    "                new_dist = dist[v_star] + graph[v_star][neighbor].get('weight', 1)\n",
    "                if new_dist < dist[neighbor]:\n",
    "                    dist[neighbor] = new_dist\n",
    "                    W[neighbor] = W[v_star] + [neighbor]\n",
    "\n",
    "    return W[end]"
   ],
   "id": "a2fecca25d45e783",
   "outputs": [],
   "execution_count": null
  },
  {
   "metadata": {},
   "cell_type": "markdown",
   "source": "# A*",
   "id": "293c7ed8eeff875a"
  },
  {
   "metadata": {},
   "cell_type": "code",
   "source": [
    "def astar(graph: nx.Graph, start: str, end: str):\n",
    "    F = set()\n",
    "    dist = {node: float('inf') for node in graph.nodes()}\n",
    "    W = {node: [] for node in graph.nodes()}\n",
    "    dist[start] = 0\n",
    "    W[start] = [start]\n",
    "    \n",
    "    while end not in F:\n",
    "        # Find the node with the smallest distance + heuristic\n",
    "        v_star = min((node for node in dist if node not in F), key=lambda node: dist[node] + graph.nodes[node].get('heuristic', 0))\n",
    "    \n",
    "        # Add this node to the set of finished nodes\n",
    "        F.add(v_star)\n",
    "    \n",
    "        # Debug output for each iteration\n",
    "        print(f\"F: {F} - dist: {dist} - W: {W}\")\n",
    "    \n",
    "        for neighbor in graph.neighbors(v_star):\n",
    "            if neighbor not in F:\n",
    "                new_dist = dist[v_star] + graph[v_star][neighbor].get('weight', 1)\n",
    "                if new_dist < dist[neighbor]:\n",
    "                    dist[neighbor] = new_dist\n",
    "                    W[neighbor] = W[v_star] + [neighbor]\n",
    "    \n",
    "    return W[end]"
   ],
   "id": "8020c4a04c731262",
   "outputs": [],
   "execution_count": null
  },
  {
   "metadata": {},
   "cell_type": "markdown",
   "source": "# Executions",
   "id": "12c97409798f96d0"
  },
  {
   "metadata": {},
   "cell_type": "code",
   "source": "route = dijkstra(graph, 's', 'z')",
   "id": "34ef26ee47fdbe6e",
   "outputs": [],
   "execution_count": null
  },
  {
   "metadata": {},
   "cell_type": "code",
   "source": [
    "dg = to_agraph(graph)\n",
    "for idx, node in enumerate(route):\n",
    "    color = color_gradient((255, 0, 0), (142, 0, 255), idx, len(route))\n",
    "    dg.get_node(node).attr['color'] = color\n",
    "\n",
    "for idx in range(len(route) - 1):\n",
    "    edge = dg.get_edge(route[idx], route[idx + 1])\n",
    "    color = color_gradient((255, 0, 0), (142, 0, 255), idx, len(route) - 1)\n",
    "    edge.attr['color'] = color\n",
    "    edge.attr['penwidth'] = 2.0\n",
    "    edge.attr['label'] = graph.get_edge_data(route[idx], route[idx + 1])['weight']\n",
    "\n",
    "filename = os.path.join(basepath, 'djikstra.png')\n",
    "dg.draw(filename, format='png', prog='dot')\n",
    "display(Image(filename))"
   ],
   "id": "75ee3fb31f10e591",
   "outputs": [],
   "execution_count": null
  },
  {
   "metadata": {},
   "cell_type": "code",
   "source": "route = astar(graph, 's', 'z')",
   "id": "bb5e691458a2e889",
   "outputs": [],
   "execution_count": null
  },
  {
   "metadata": {},
   "cell_type": "code",
   "source": [
    "ast = to_agraph(graph)\n",
    "for idx, node in enumerate(route):\n",
    "    color = color_gradient((255, 0, 0), (142, 0, 255), idx, len(route))\n",
    "    ast.get_node(node).attr['color'] = color\n",
    "\n",
    "for idx in range(len(route) - 1):\n",
    "    edge = ast.get_edge(route[idx], route[idx + 1])\n",
    "    color = color_gradient((255, 0, 0), (142, 0, 255), idx, len(route) - 1)\n",
    "    edge.attr['color'] = color\n",
    "    edge.attr['penwidth'] = 2.0\n",
    "    edge.attr['label'] = graph.get_edge_data(route[idx], route[idx + 1])['weight']\n",
    "\n",
    "filename = os.path.join(basepath, 'astar.png')\n",
    "ast.draw(filename, format='png', prog='dot')\n",
    "display(Image(filename))"
   ],
   "id": "59156cd0b8e22802",
   "outputs": [],
   "execution_count": null
  }
 ],
 "metadata": {
  "kernelspec": {
   "display_name": "Python 3",
   "language": "python",
   "name": "python3"
  },
  "language_info": {
   "codemirror_mode": {
    "name": "ipython",
    "version": 2
   },
   "file_extension": ".py",
   "mimetype": "text/x-python",
   "name": "python",
   "nbconvert_exporter": "python",
   "pygments_lexer": "ipython2",
   "version": "2.7.6"
  }
 },
 "nbformat": 4,
 "nbformat_minor": 5
}
