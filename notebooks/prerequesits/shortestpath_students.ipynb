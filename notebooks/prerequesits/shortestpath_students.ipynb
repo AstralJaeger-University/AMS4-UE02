{
 "cells": [
  {
   "cell_type": "code",
   "execution_count": null,
   "metadata": {},
   "outputs": [],
   "source": [
    "#pip install contextily"
   ]
  },
  {
   "cell_type": "code",
   "execution_count": null,
   "metadata": {},
   "outputs": [],
   "source": [
    "#pip install geopandas"
   ]
  },
  {
   "cell_type": "code",
   "execution_count": null,
   "metadata": {},
   "outputs": [],
   "source": [
    "#pip install PyQt5"
   ]
  },
  {
   "cell_type": "code",
   "execution_count": null,
   "metadata": {},
   "outputs": [],
   "source": [
    "import math\n",
    "import networkx as nx\n",
    "import matplotlib.pyplot as plt\n",
    "import contextily as cx\n",
    "import geopandas as gpd\n",
    "\n",
    "def parse_co_file(filename, graph):\n",
    "    pos = dict()\n",
    "    with open(filename) as file:\n",
    "        for line in file:\n",
    "            if line[0] == 'v': # v <node> <x> <y>\n",
    "                line = line.split()\n",
    "                node = int(line[1])\n",
    "                x = float(line[2]) / 1e6 # wgs84 decimal\n",
    "                y = float(line[3]) / 1e6 # wgs84 decimal\n",
    "                pos[node] = (x, y)\n",
    "            elif line[0] == 'c': # c comment\n",
    "                continue\n",
    "            elif line[0] == 'p': # p aux sp co <nodes>\n",
    "                continue\n",
    "    print(\"Parsed\", len(pos), \"node positions from\", filename)\n",
    "    for node in pos:\n",
    "        graph.add_node(node, pos = pos[node])\n",
    "    return pos\n",
    "\n",
    "def parse_gr_file(filename, graph):\n",
    "    edges = 0\n",
    "    with open(filename) as file:\n",
    "        for line in file:\n",
    "            if line[0] == 'c': # c comment\n",
    "                continue\n",
    "            elif line[0] == 'p': # p sp <nodes> <edges>\n",
    "                continue\n",
    "            elif line[0] == 'a': # a <src> <dst> <weight>\n",
    "                line = line.split()\n",
    "                src = int(line[1])\n",
    "                dst = int(line[2])\n",
    "                weight = int(line[3])\n",
    "                graph.add_edge(src, dst, weight = weight)\n",
    "                edges += 1\n",
    "    print(\"Parsed\", edges, \"edges from\", filename)\n",
    "    return graph\n",
    "\n",
    "def calc_heuristic(graph, positions, destination):\n",
    "    for node in graph.nodes():\n",
    "        graph.nodes[node]['heuristic'] = math.sqrt((positions[node][0] - positions[destination][0])**2 + (positions[node][1] - positions[destination][1])**2)\n",
    "\n",
    "def plot_map(graph, west, south, east, north,  path = None, showEdges = False):\n",
    "    section = {node for node in graph.nodes() if graph.nodes[node]['pos'][0] > west and graph.nodes[node]['pos'][0] < east and graph.nodes[node]['pos'][1] > south and graph.nodes[node]['pos'][1] < north}\n",
    "    posx = [graph.nodes[node]['pos'][0] for node in section]\n",
    "    posy = [graph.nodes[node]['pos'][1] for node in section]\n",
    "    fig, ax = plt.subplots(1, 1, figsize=(30, 30))\n",
    "    pos_gdf = gpd.GeoDataFrame(section, geometry=gpd.points_from_xy(posx, posy), crs='EPSG:4326')\n",
    "    ax = pos_gdf.plot(ax=ax, color='blue', markersize=100, alpha=0.5)\n",
    "    cx.add_basemap(ax, crs='EPSG:4326', source=cx.providers.OpenStreetMap.Mapnik)\n",
    "    if showEdges:\n",
    "        jfk_edges = [(src, dst) for src, dst in graph.edges() if src in section and dst in section]\n",
    "        nx.draw_networkx_edges(graph, pos = nx.get_node_attributes(graph, 'pos'), edgelist = jfk_edges, node_size = 10, ax = ax, edge_color = 'blue', alpha = 0.5)\n",
    "    nx.draw_networkx_labels(graph, pos = nx.get_node_attributes(graph, 'pos'), labels = {node: node for node in section}, font_size = 4, ax = ax)\n",
    "    if path is not None:\n",
    "        plt.savefig('.\\\\data\\\\jfk.png')\n",
    "    return fig\n",
    "\n",
    "def plot_path(graph, path):\n",
    "    posx = [graph.nodes[node]['pos'][0] for node in path]\n",
    "    posy = [graph.nodes[node]['pos'][1] for node in path]\n",
    "    fig, ax = plt.subplots(1, 1, figsize=(30, 30))\n",
    "    pos_gdf = gpd.GeoDataFrame(path, geometry=gpd.points_from_xy(posx, posy), crs='EPSG:4326')\n",
    "    ax = pos_gdf.plot(ax=ax)\n",
    "    cx.add_basemap(ax, crs='EPSG:4326', source=cx.providers.OpenStreetMap.Mapnik)   \n",
    "    return fig\n"
   ]
  },
  {
   "cell_type": "code",
   "execution_count": null,
   "metadata": {},
   "outputs": [],
   "source": [
    "prefix = 'NY'\n",
    "graph = nx.DiGraph()         \n",
    "parse_co_file('.\\\\data\\\\USA-road-d.' + prefix + '.co', graph)\n",
    "parse_gr_file('.\\\\data\\\\USA-road-t.' + prefix + '.gr', graph)"
   ]
  },
  {
   "cell_type": "code",
   "execution_count": null,
   "metadata": {},
   "outputs": [],
   "source": [
    "west, south, east, north = (-73.81, 40.640, -73.77, 40.66)\n",
    "fig = plot_map(graph,-73.81, 40.640, -73.77, 40.66, '.\\\\data\\\\jfk.png')"
   ]
  },
  {
   "cell_type": "code",
   "execution_count": null,
   "metadata": {},
   "outputs": [],
   "source": [
    "west, south, east, north = (-73.89, 40.768, -73.856, 40.785)\n",
    "fig = plot_map(graph, -73.89, 40.768, -73.856, 40.785, '.\\\\data\\\\laguardia.png')"
   ]
  },
  {
   "cell_type": "code",
   "execution_count": null,
   "metadata": {},
   "outputs": [],
   "source": [
    "west, south, east, north = (-74.19, 40.686, -74.17, 40.697)\n",
    "fig = plot_map(graph, -73.89, 40.768, -73.856, 40.785, '.\\\\data\\\\newark.png')"
   ]
  },
  {
   "cell_type": "code",
   "execution_count": null,
   "metadata": {},
   "outputs": [],
   "source": [
    "jfk_node = 212410\n",
    "laguardia_node = 198373\n",
    "newark_node = 49611"
   ]
  },
  {
   "cell_type": "code",
   "execution_count": null,
   "metadata": {},
   "outputs": [],
   "source": [
    "import heapq \n",
    "#use heapq.heappop(listname) to retrieve an element\n",
    "#use heapq.heappush(listname, (key, value)) to store an element in the heap\n",
    "#don't perform other list manipulations as those could destroy the heap property  \n",
    "\n",
    "def dijkstra(graph, src, dst):\n",
    "    return (distance, pred)\n",
    "\n",
    "def construct_path(pred, start, end):\n",
    "    return path"
   ]
  },
  {
   "cell_type": "code",
   "execution_count": null,
   "metadata": {},
   "outputs": [],
   "source": [
    "(distance, pred) = dijkstra(graph, jfk_node, laguardia_node)\n",
    "path1 = construct_path(pred, jfk_node, laguardia_node)\n",
    "print(\"JFK to LaGuardia:\", distance, path1)\n",
    "fig = plot_path(graph, path1)"
   ]
  },
  {
   "cell_type": "code",
   "execution_count": null,
   "metadata": {},
   "outputs": [],
   "source": [
    "(distance, pred) = dijkstra(graph, laguardia_node, newark_node)\n",
    "path2 = construct_path(pred, laguardia_node, newark_node)\n",
    "print(\"LaGuardia to NewArk:\", distance, path2)\n",
    "fig = plot_path(graph, path2)"
   ]
  },
  {
   "cell_type": "code",
   "execution_count": null,
   "metadata": {},
   "outputs": [],
   "source": [
    "(distance, pred) = dijkstra(graph, newark_node, jfk_node)\n",
    "path3 = construct_path(pred, newark_node, jfk_node)\n",
    "print(\"NewArk to JFK:\", distance, path3)\n",
    "fig = plot_path(graph, path3)"
   ]
  },
  {
   "cell_type": "code",
   "execution_count": null,
   "metadata": {},
   "outputs": [],
   "source": [
    "roundtrip = path1+path2+path3\n",
    "fig = plot_path(graph, roundtrip)"
   ]
  },
  {
   "cell_type": "code",
   "execution_count": null,
   "metadata": {},
   "outputs": [],
   "source": []
  }
 ],
 "metadata": {
  "kernelspec": {
   "display_name": "Python 3",
   "language": "python",
   "name": "python3"
  },
  "language_info": {
   "codemirror_mode": {
    "name": "ipython",
    "version": 3
   },
   "file_extension": ".py",
   "mimetype": "text/x-python",
   "name": "python",
   "nbconvert_exporter": "python",
   "pygments_lexer": "ipython3",
   "version": "3.10.2"
  }
 },
 "nbformat": 4,
 "nbformat_minor": 2
}
