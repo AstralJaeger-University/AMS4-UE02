{
 "cells": [
  {
   "cell_type": "code",
   "metadata": {
    "ExecuteTime": {
     "end_time": "2024-05-24T20:51:39.391841Z",
     "start_time": "2024-05-24T20:51:39.388726Z"
    }
   },
   "source": [
    "import networkx as nx\n",
    "from collections import deque\n",
    "from collections import namedtuple\n",
    "Choice = namedtuple(\"Choice\",\"task place\")\n",
    "Problemdata = namedtuple(\"ProblemData\", \"routing precedences costs\")\n",
    "\n",
    "def fix_weights(G):\n",
    "    for _,_,d in G.edges(data=True):\n",
    "        if 'weight' in d:\n",
    "            d['weight'] = float(d['weight'].replace(\"\\\"\", \"\"))"
   ],
   "outputs": [],
   "execution_count": 10
  },
  {
   "cell_type": "markdown",
   "metadata": {},
   "source": [
    "## Loading"
   ]
  },
  {
   "cell_type": "code",
   "metadata": {
    "ExecuteTime": {
     "end_time": "2024-05-24T20:51:39.439575Z",
     "start_time": "2024-05-24T20:51:39.393213Z"
    }
   },
   "source": [
    "GPos = nx.Graph(nx.nx_pydot.read_dot(\"prerequisites/Precedences.dot\"))\n",
    "fix_weights(GPos)\n",
    "GPred = nx.DiGraph(nx.nx_pydot.read_dot(\"prerequisites/Precedences.dot\"))\n",
    "GTaskCost = nx.Graph(nx.nx_pydot.read_dot(\"prerequisites/Costs.dot\"))\n",
    "fix_weights(GTaskCost)\n",
    "problemdata = Problemdata(GPos, GPred, GTaskCost)"
   ],
   "outputs": [],
   "execution_count": 11
  },
  {
   "cell_type": "markdown",
   "metadata": {},
   "source": [
    "## Node-Class"
   ]
  },
  {
   "cell_type": "code",
   "metadata": {
    "ExecuteTime": {
     "end_time": "2024-05-24T20:51:39.443899Z",
     "start_time": "2024-05-24T20:51:39.440703Z"
    }
   },
   "source": [
    "class Node:\n",
    "    def __init__(self, problemdata) -> None:\n",
    "        self.data = problemdata\n",
    "        self.choices = []\n",
    "        self.OpenTasks = {x for x in problemdata.precedences}\n",
    "        self.quality = 0\n",
    "\n",
    "    def create_Child(self, choice) -> \"Node\":\n",
    "        \"\"\"Creates a new Node objecte by copying self and applying the choice\"\"\"\n",
    "        new_node = Node(self.data)\n",
    "        new_node.choices = self.choices.copy()\n",
    "        new_node.choices.append(choice)\n",
    "        new_node.OpenTasks = self.OpenTasks.copy()\n",
    "        new_node.OpenTasks.remove(choice.task)\n",
    "        new_node.quality = self.quality + self.data.task_quality[choice.task]\n",
    "        return new_node\n",
    "\n",
    "\n",
    "    def expand(self):\n",
    "        \"\"\"Create all child nodes by applying all possible \n",
    "        choices (combinations of tasks and places)\"\"\"\n",
    "        children = []\n",
    "        for task in self.OpenTasks:\n",
    "            if self.all_precedences_fulfilled(task):\n",
    "                for place in self.possible_locations:\n",
    "                    choice = Choice(task, place)  # Assuming Choice is a defined class\n",
    "                    child = self.create_Child(choice)\n",
    "                    children.append(child)\n",
    "        return children\n",
    "\n",
    "    @property\n",
    "    def is_finished(self) -> bool:\n",
    "        return len(self.OpenTasks) == 0\n",
    "\n",
    "    def all_precedences_fulfilled(self, task) -> bool:\n",
    "        return not any(pr in self.OpenTasks for pr in self.data.precedences[task])\n",
    "\n",
    "    @property\n",
    "    def possible_locations(self) -> list[str]:\n",
    "        if len(self.choices) != 0:\n",
    "            return self.data.routing[self.choices[-1].place]\n",
    "        return self.data.routing"
   ],
   "outputs": [],
   "execution_count": 12
  },
  {
   "cell_type": "markdown",
   "metadata": {},
   "source": [
    "## Branch And Bound "
   ]
  },
  {
   "cell_type": "code",
   "metadata": {
    "ExecuteTime": {
     "end_time": "2024-05-24T20:51:39.446954Z",
     "start_time": "2024-05-24T20:51:39.444546Z"
    }
   },
   "source": [
    "# you can use pop, popleft, extend, append, and appendleft with the deque object\n",
    "#https://docs.python.org/3/library/collections.html#collections.deque\n",
    "\n",
    "def branch_and_bound(problem_data):\n",
    "    start = Node(problem_data)\n",
    "    queue = deque([start])\n",
    "    best = None\n",
    "    visited_nodes = 0\n",
    "    max_queue_size = 1\n",
    "    while len(queue) > 0:\n",
    "        current_node = queue.popleft()\n",
    "        visited_nodes += 1\n",
    "\n",
    "        if current_node.is_finished:\n",
    "            if best is None or current_node.quality > best.quality:\n",
    "                best = current_node\n",
    "            continue\n",
    "\n",
    "        for child in current_node.expand():\n",
    "            if best is None or child.quality > best.quality:  # Simple bounding condition\n",
    "                queue.append(child)\n",
    "\n",
    "        max_queue_size = max(max_queue_size, len(queue))\n",
    "    return best, visited_nodes, max_queue_size"
   ],
   "outputs": [],
   "execution_count": 13
  },
  {
   "cell_type": "markdown",
   "metadata": {},
   "source": [
    "## Experiments"
   ]
  },
  {
   "cell_type": "code",
   "metadata": {
    "ExecuteTime": {
     "end_time": "2024-05-24T20:54:10.584582Z",
     "start_time": "2024-05-24T20:54:10.581710Z"
    }
   },
   "source": [
    "def test_create_child(self):\n",
    "    node = Node(problemdata)\n",
    "    choice = Choice(task=\"Fressen\", place=\"Bad\")\n",
    "    child = node.create_Child(choice)\n",
    "    assert choice in child.choices\n",
    "    assert choice.task == child.OpenTasks\n"
   ],
   "outputs": [],
   "execution_count": 15
  }
 ],
 "metadata": {
  "kernelspec": {
   "display_name": "Python 3",
   "language": "python",
   "name": "python3"
  },
  "language_info": {
   "codemirror_mode": {
    "name": "ipython",
    "version": 3
   },
   "file_extension": ".py",
   "mimetype": "text/x-python",
   "name": "python",
   "nbconvert_exporter": "python",
   "pygments_lexer": "ipython3",
   "version": "3.10.2"
  }
 },
 "nbformat": 4,
 "nbformat_minor": 2
}
