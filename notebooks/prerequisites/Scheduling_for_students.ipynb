{
 "cells": [
  {
   "cell_type": "code",
   "execution_count": 14,
   "metadata": {},
   "source": [
    "import networkx as nx\n",
    "from collections import deque\n",
    "from collections import namedtuple\n",
    "Choice = namedtuple(\"Choice\",\"task place\")\n",
    "Problemdata = namedtuple(\"ProblemData\", \"routing precedences costs\")\n",
    "def fix_weights(G):\n",
    "    for _,_,d in G.edges(data=True):\n",
    "        d['weight'] = float(d['weight'].replace(\"\\\"\",\"\"))     "
   ],
   "outputs": []
  },
  {
   "cell_type": "markdown",
   "metadata": {},
   "source": [
    "## Loading"
   ]
  },
  {
   "cell_type": "code",
   "execution_count": 15,
   "metadata": {},
   "source": [
    "GPos = nx.Graph(nx.nx_pydot.read_dot(\"Positions.dot\"))\n",
    "fix_weights(GPos)\n",
    "GPred = nx.DiGraph(nx.nx_pydot.read_dot(\"Precedences.dot\"))\n",
    "GTaskCost = nx.Graph(nx.nx_pydot.read_dot(\"Costs.dot\"))\n",
    "fix_weights(GTaskCost)\n",
    "problemdata = Problemdata(GPos, GPred, GTaskCost)"
   ],
   "outputs": []
  },
  {
   "cell_type": "markdown",
   "metadata": {},
   "source": [
    "## Node-Class"
   ]
  },
  {
   "cell_type": "code",
   "execution_count": 16,
   "metadata": {},
   "source": [
    "class Node:\n",
    "    def __init__(self, problemdata) -> None:\n",
    "        self.data = problemdata\n",
    "        self.choices = []\n",
    "        self.OpenTasks = {x for x in problemdata.precedences}\n",
    "        self.quality = 0\n",
    "\n",
    "    def create_Child(self, choice) -> \"Node\":\n",
    "        \"\"\"Creates a new Node objecte by copying self and applying the choice\"\"\"\n",
    "        ##TODO\n",
    "        pass\n",
    "\n",
    "    def expand(self):\n",
    "        \"\"\"Create all child nodes by applying all possible \n",
    "        choices (combinations of tasks and places)\"\"\"\n",
    "        ##TODO\n",
    "        pass\n",
    "\n",
    "    @property\n",
    "    def is_finished(self) -> bool:\n",
    "        return len(self.OpenTasks) == 0\n",
    "\n",
    "    def all_precedences_fulfilled(self, task) -> bool:\n",
    "        return not any(pr in self.OpenTasks for pr in self.data.precedences[task])\n",
    "\n",
    "    @property\n",
    "    def possible_locations(self) -> list[str]:\n",
    "        if len(self.choices) != 0:\n",
    "            return self.data.routing[self.choices[-1].place]\n",
    "        return self.data.routing"
   ],
   "outputs": []
  },
  {
   "cell_type": "markdown",
   "metadata": {},
   "source": [
    "## Branch And Bound "
   ]
  },
  {
   "cell_type": "code",
   "execution_count": 17,
   "metadata": {},
   "source": [
    "# you can use pop, popleft, extend, append, and appendleft with the deque object\n",
    "#https://docs.python.org/3/library/collections.html#collections.deque\n",
    "\n",
    "def branch_and_bound(problem_data):\n",
    "    start = Node(problem_data)\n",
    "    queue = deque([start])\n",
    "    best = None\n",
    "    visited_nodes = 0\n",
    "    max_queue_size = 1\n",
    "    while len(queue) > 0:\n",
    "       #TODO\n",
    "       pass\n",
    "    return best, visited_nodes, max_queue_size"
   ],
   "outputs": []
  },
  {
   "cell_type": "markdown",
   "metadata": {},
   "source": [
    "## Experiments"
   ]
  },
  {
   "cell_type": "code",
   "execution_count": null,
   "metadata": {},
   "source": [],
   "outputs": []
  }
 ],
 "metadata": {
  "kernelspec": {
   "display_name": "Python 3",
   "language": "python",
   "name": "python3"
  },
  "language_info": {
   "codemirror_mode": {
    "name": "ipython",
    "version": 3
   },
   "file_extension": ".py",
   "mimetype": "text/x-python",
   "name": "python",
   "nbconvert_exporter": "python",
   "pygments_lexer": "ipython3",
   "version": "3.10.2"
  }
 },
 "nbformat": 4,
 "nbformat_minor": 2
}
