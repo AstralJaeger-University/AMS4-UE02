{
 "cells": [
  {
   "cell_type": "code",
   "id": "initial_id",
   "metadata": {
    "collapsed": true
   },
   "source": [
    "import os.path\n",
    "\n",
    "import networkx as nx\n",
    "import matplotlib.pyplot as plt\n",
    "from networkx.drawing.nx_agraph import graphviz_layout, to_agraph\n",
    "\n",
    "prefix = os.path.join(\"assets\", \"aufgabe_04\")\n",
    "os.makedirs(prefix, exist_ok=True)"
   ],
   "outputs": [],
   "execution_count": null
  },
  {
   "metadata": {},
   "cell_type": "markdown",
   "source": "# Aufgabe 04",
   "id": "a9997aa485212665"
  },
  {
   "metadata": {},
   "cell_type": "code",
   "source": [
    "def color_gradient(start_color, end_color, index, steps):\n",
    "\n",
    "    r = start_color[0] + (end_color[0] - start_color[0]) * index / (steps - 1)\n",
    "    g = start_color[1] + (end_color[1] - start_color[1]) * index / (steps - 1)\n",
    "    b = start_color[2] + (end_color[2] - start_color[2]) * index / (steps - 1)\n",
    "    return int(r), int(g), int(b)\n",
    "\n",
    "def create_grid_graph(n, food):\n",
    "    G = nx.grid_2d_graph(n, n)\n",
    "    # G = nx.convert_node_labels_to_integers(G, first_label=0)\n",
    "    G.remove_nodes_from(food)\n",
    "    return G\n",
    "\n",
    "def find_hamiltonian_cycle(G):\n",
    "    try:\n",
    "        dig = nx.DiGraph()\n",
    "        for edge in G.edges():\n",
    "            dig.add_edge(edge[0], edge[1])\n",
    "            dig.add_edge(edge[1], edge[0])\n",
    "        \n",
    "        cycle = nx.algorithms.tournament.hamiltonian_path(dig)\n",
    "        cycle.append(cycle[0])\n",
    "        return cycle\n",
    "    except nx.NetworkXNoPath:\n",
    "        return None\n",
    "\n",
    "\n",
    "def visualize_graph_with_cycle(G, cycle, filename):\n",
    "    g = to_agraph(G)\n",
    "    \n",
    "    if cycle:\n",
    "        edges = [(cycle[i], cycle[i + 1]) for i in range(len(cycle) - 1)]\n",
    "        edges.append((cycle[-1], cycle[0]))\n",
    "        \n",
    "        for i in range(len(cycle)):\n",
    "            raw_color = color_gradient((255, 0, 0), (142, 0, 255), i, len(cycle))\n",
    "            hex_color = f'#{hex(raw_color[0]).replace(\"0x\", \"\"):02}{hex(raw_color[1]).replace(\"0x\", \"\"):02}{hex(raw_color[2]).replace(\"0x\", \"\"):02}'\n",
    "            g.get_edge(edges[i][0], edges[i][1]).attr['color'] = hex_color\n",
    "        \n",
    "    g.draw(filename, format='png', prog='dot')\n"
   ],
   "id": "d111591aacc4f575",
   "outputs": [],
   "execution_count": null
  },
  {
   "metadata": {},
   "cell_type": "code",
   "source": [
    "from IPython.core.display import Image\n",
    "\n",
    "n = 16, 16\n",
    "food = [(4, 2), (14, 3)]\n",
    "\n",
    "# Create the grid graph\n",
    "G = create_grid_graph(n, food)\n",
    "\n",
    "# Find the Hamiltonian cycle\n",
    "cycle = find_hamiltonian_cycle(G)\n",
    "\n",
    "filename = os.path.join(prefix, \"hamiltonian_cycle_16.png\")\n",
    "\n",
    "# Visualize the graph with the Hamiltonian cycle\n",
    "visualize_graph_with_cycle(G, cycle, filename)\n",
    "display(Image(filename))\n",
    "\n",
    "if cycle:\n",
    "    print(\"Hamiltonian cycle found:\", cycle)\n",
    "else:\n",
    "    print(\"No Hamiltonian cycle exists for this grid.\")\n"
   ],
   "id": "757f9328d81af1d6",
   "outputs": [],
   "execution_count": null
  },
  {
   "metadata": {},
   "cell_type": "code",
   "source": [
    "from IPython.core.display import Image\n",
    "\n",
    "n = 15\n",
    "food = [(4, 2), (14, 3)]\n",
    "\n",
    "# Create the grid graph\n",
    "G = create_grid_graph(n, food)\n",
    "\n",
    "# Find the Hamiltonian cycle\n",
    "cycle = find_hamiltonian_cycle(G)\n",
    "\n",
    "filename = os.path.join(prefix, \"hamiltonian_cycle_15.png\")\n",
    "\n",
    "# Visualize the graph with the Hamiltonian cycle\n",
    "visualize_graph_with_cycle(G, cycle, filename)\n",
    "display(Image(filename))\n",
    "\n",
    "if cycle:\n",
    "    print(\"Hamiltonian cycle found:\", cycle)\n",
    "else:\n",
    "    print(\"No Hamiltonian cycle exists for this grid.\")\n"
   ],
   "id": "71628d310a475baf",
   "outputs": [],
   "execution_count": null
  },
  {
   "metadata": {},
   "cell_type": "code",
   "source": "",
   "id": "f60d21687297c53",
   "outputs": [],
   "execution_count": null
  }
 ],
 "metadata": {
  "kernelspec": {
   "display_name": "Python 3",
   "language": "python",
   "name": "python3"
  },
  "language_info": {
   "codemirror_mode": {
    "name": "ipython",
    "version": 2
   },
   "file_extension": ".py",
   "mimetype": "text/x-python",
   "name": "python",
   "nbconvert_exporter": "python",
   "pygments_lexer": "ipython2",
   "version": "2.7.6"
  }
 },
 "nbformat": 4,
 "nbformat_minor": 5
}
