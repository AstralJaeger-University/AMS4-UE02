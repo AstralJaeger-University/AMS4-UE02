{
 "cells": [
  {
   "cell_type": "code",
   "id": "initial_id",
   "metadata": {
    "collapsed": true,
    "ExecuteTime": {
     "end_time": "2024-05-24T12:46:55.026159Z",
     "start_time": "2024-05-24T12:46:54.297277Z"
    }
   },
   "source": [
    "# Install dependencies\n",
    "!pip install networkx matplotlib pygraphviz"
   ],
   "outputs": [
    {
     "name": "stdout",
     "output_type": "stream",
     "text": [
      "Requirement already satisfied: networkx in /Users/astral/ws/AMS4-UE01/notebook/venv/lib/python3.12/site-packages (3.3)\r\n",
      "Requirement already satisfied: matplotlib in /Users/astral/ws/AMS4-UE01/notebook/venv/lib/python3.12/site-packages (3.8.4)\r\n",
      "Requirement already satisfied: pygraphviz in /Users/astral/ws/AMS4-UE01/notebook/venv/lib/python3.12/site-packages (1.12)\r\n",
      "Requirement already satisfied: contourpy>=1.0.1 in /Users/astral/ws/AMS4-UE01/notebook/venv/lib/python3.12/site-packages (from matplotlib) (1.2.1)\r\n",
      "Requirement already satisfied: cycler>=0.10 in /Users/astral/ws/AMS4-UE01/notebook/venv/lib/python3.12/site-packages (from matplotlib) (0.12.1)\r\n",
      "Requirement already satisfied: fonttools>=4.22.0 in /Users/astral/ws/AMS4-UE01/notebook/venv/lib/python3.12/site-packages (from matplotlib) (4.51.0)\r\n",
      "Requirement already satisfied: kiwisolver>=1.3.1 in /Users/astral/ws/AMS4-UE01/notebook/venv/lib/python3.12/site-packages (from matplotlib) (1.4.5)\r\n",
      "Requirement already satisfied: numpy>=1.21 in /Users/astral/ws/AMS4-UE01/notebook/venv/lib/python3.12/site-packages (from matplotlib) (1.26.4)\r\n",
      "Requirement already satisfied: packaging>=20.0 in /Users/astral/ws/AMS4-UE01/notebook/venv/lib/python3.12/site-packages (from matplotlib) (24.0)\r\n",
      "Requirement already satisfied: pillow>=8 in /Users/astral/ws/AMS4-UE01/notebook/venv/lib/python3.12/site-packages (from matplotlib) (10.3.0)\r\n",
      "Requirement already satisfied: pyparsing>=2.3.1 in /Users/astral/ws/AMS4-UE01/notebook/venv/lib/python3.12/site-packages (from matplotlib) (3.1.2)\r\n",
      "Requirement already satisfied: python-dateutil>=2.7 in /Users/astral/ws/AMS4-UE01/notebook/venv/lib/python3.12/site-packages (from matplotlib) (2.9.0.post0)\r\n",
      "Requirement already satisfied: six>=1.5 in /Users/astral/ws/AMS4-UE01/notebook/venv/lib/python3.12/site-packages (from python-dateutil>=2.7->matplotlib) (1.16.0)\r\n"
     ]
    }
   ],
   "execution_count": 19
  },
  {
   "metadata": {
    "ExecuteTime": {
     "end_time": "2024-05-24T12:46:55.029372Z",
     "start_time": "2024-05-24T12:46:55.027292Z"
    }
   },
   "cell_type": "code",
   "source": [
    "import os\n",
    "\n",
    "import networkx as nx\n",
    "from networkx.algorithms import bipartite\n",
    "import matplotlib.pyplot as plt\n",
    "from IPython.display import Image\n",
    "from networkx.drawing.nx_agraph import to_agraph\n",
    "from random import choice\n",
    "\n",
    "# Ensure the assets directory exists\n",
    "os.makedirs('assets', exist_ok=True)\n",
    "\n",
    "prefix = \"aufgabe_02\"\n",
    "asset_dir = os.path.join('assets', prefix)\n",
    "os.makedirs(asset_dir, exist_ok=True)"
   ],
   "id": "d5b04cf4151e0ed2",
   "outputs": [],
   "execution_count": 20
  },
  {
   "metadata": {},
   "cell_type": "markdown",
   "source": "# Aufgabe 02",
   "id": "639f796018efea5c"
  },
  {
   "metadata": {
    "ExecuteTime": {
     "end_time": "2024-05-24T12:46:55.031568Z",
     "start_time": "2024-05-24T12:46:55.029925Z"
    }
   },
   "cell_type": "code",
   "source": [
    "transactions = [\n",
    "    ('R', 1, 'A'),\n",
    "    ('W', 1, 'A'),\n",
    "    ('R', 7, 'B'),\n",
    "    ('R', 2, 'A'),\n",
    "    ('W', 2, 'A'),\n",
    "    ('R', 1, 'B'),\n",
    "    ('W', 1, 'B'),\n",
    "    ('R', 2, 'B'),\n",
    "    ('W', 2, 'B'),\n",
    "    ('R', 3, 'A'),\n",
    "    ('W', 4, 'A'),\n",
    "    ('R', 5, 'B'),\n",
    "    ('R', 1, 'C'),\n",
    "    ('R', 6, 'C'),\n",
    "    ('W', 8, 'A'),\n",
    "    ('W', 8, 'B')\n",
    "]\n",
    "\n",
    "graph = nx.DiGraph()\n",
    "\n",
    "# Process the transactions to identify dependencies\n",
    "last_read = {}\n",
    "last_write = {}\n",
    "\n",
    "for operation, transaction, item in transactions:\n",
    "    if operation == 'R':\n",
    "        if item in last_write and last_write[item] != transaction:\n",
    "            # Dependency: last write to item -> current read of item\n",
    "            graph.add_edge(last_write[item], transaction, label=f'W->{item}->R')\n",
    "        last_read[item] = transaction\n",
    "    elif operation == 'W':\n",
    "        if item in last_read and last_read[item] != transaction:\n",
    "            # Dependency: last read of item -> current write to item\n",
    "            graph.add_edge(last_read[item], transaction, label=f'R->{item}->W')\n",
    "        if item in last_write and last_write[item] != transaction:\n",
    "            # Dependency: last write to item -> current write to item\n",
    "            graph.add_edge(last_write[item], transaction, label=f'W->{item}->W')\n",
    "        last_write[item] = transaction\n",
    "\n",
    "# Check for cycles in the graph\n",
    "try:\n",
    "    cycles = nx.find_cycle(graph, orientation='original')\n",
    "    cycle_exists = True\n",
    "except nx.exception.NetworkXNoCycle:\n",
    "    cycle_exists = False\n",
    "\n",
    "# Determine a serial schedule if no cycles exist\n",
    "serial_schedule = []\n",
    "if not cycle_exists:\n",
    "    serial_schedule = list(nx.topological_sort(graph))\n",
    "\n",
    "# Visualize the graph using PyGraphViz\n",
    "pos = to_agraph(graph)\n",
    "# labels = nx.get_edge_attributes(graph, 'label')\n",
    "# plt.figure(figsize=(12, 8))\n",
    "# nx.draw(graph, pos, with_labels=True, node_size=2000, node_color=\"lightblue\", font_size=10, font_weight=\"bold\", arrowsize=20)\n",
    "# nx.draw_networkx_edge_labels(graph, pos, edge_labels=labels)\n",
    "# plt.title(\"Transaction Dependency Graph\")\n",
    "# plt.show()\n",
    "\n",
    "\n",
    "\n",
    "serial_schedule, cycle_exists"
   ],
   "id": "e2016b9896202aa3",
   "outputs": [],
   "execution_count": 21
  },
  {
   "metadata": {
    "ExecuteTime": {
     "end_time": "2024-05-24T12:46:55.033627Z",
     "start_time": "2024-05-24T12:46:55.032525Z"
    }
   },
   "cell_type": "code",
   "source": "",
   "id": "2ec2bb17c4f71ee4",
   "outputs": [],
   "execution_count": 21
  },
  {
   "metadata": {
    "ExecuteTime": {
     "end_time": "2024-05-24T12:46:55.035103Z",
     "start_time": "2024-05-24T12:46:55.034057Z"
    }
   },
   "cell_type": "code",
   "source": "",
   "id": "4674e1a39890ca79",
   "outputs": [],
   "execution_count": 21
  },
  {
   "metadata": {
    "ExecuteTime": {
     "end_time": "2024-05-24T12:46:55.036876Z",
     "start_time": "2024-05-24T12:46:55.035494Z"
    }
   },
   "cell_type": "code",
   "source": "",
   "id": "902309dad28e85b3",
   "outputs": [],
   "execution_count": 21
  }
 ],
 "metadata": {
  "kernelspec": {
   "display_name": "Python 3",
   "language": "python",
   "name": "python3"
  },
  "language_info": {
   "codemirror_mode": {
    "name": "ipython",
    "version": 2
   },
   "file_extension": ".py",
   "mimetype": "text/x-python",
   "name": "python",
   "nbconvert_exporter": "python",
   "pygments_lexer": "ipython2",
   "version": "2.7.6"
  }
 },
 "nbformat": 4,
 "nbformat_minor": 5
}
