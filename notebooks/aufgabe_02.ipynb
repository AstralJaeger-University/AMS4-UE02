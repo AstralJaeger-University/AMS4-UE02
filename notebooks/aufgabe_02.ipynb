{
 "cells": [
  {
   "cell_type": "code",
   "id": "initial_id",
   "metadata": {
    "collapsed": true,
    "ExecuteTime": {
     "end_time": "2024-05-24T12:46:55.026159Z",
     "start_time": "2024-05-24T12:46:54.297277Z"
    }
   },
   "source": [
    "# Install dependencies\n",
    "!pip install networkx matplotlib pygraphviz"
   ],
   "execution_count": 19,
   "outputs": []
  },
  {
   "metadata": {
    "ExecuteTime": {
     "end_time": "2024-05-24T12:46:55.029372Z",
     "start_time": "2024-05-24T12:46:55.027292Z"
    }
   },
   "cell_type": "code",
   "source": [
    "import os\n",
    "\n",
    "import networkx as nx\n",
    "from networkx.algorithms import bipartite\n",
    "import matplotlib.pyplot as plt\n",
    "from IPython.display import Image\n",
    "from networkx.drawing.nx_agraph import to_agraph\n",
    "from random import choice\n",
    "\n",
    "# Ensure the assets directory exists\n",
    "os.makedirs('assets', exist_ok=True)\n",
    "\n",
    "prefix = \"aufgabe_02\"\n",
    "asset_dir = os.path.join('assets', prefix)\n",
    "os.makedirs(asset_dir, exist_ok=True)"
   ],
   "id": "d5b04cf4151e0ed2",
   "execution_count": 20,
   "outputs": []
  },
  {
   "metadata": {},
   "cell_type": "markdown",
   "source": "# Aufgabe 02",
   "id": "639f796018efea5c"
  },
  {
   "metadata": {
    "ExecuteTime": {
     "end_time": "2024-05-24T13:23:52.589356Z",
     "start_time": "2024-05-24T13:23:52.361688Z"
    }
   },
   "cell_type": "code",
   "source": [
    "transactions = [\n",
    "    ('R', 1, 'A'),\n",
    "    ('W', 1, 'A'),\n",
    "    ('R', 7, 'B'),\n",
    "    ('R', 2, 'A'),\n",
    "    ('W', 2, 'A'),\n",
    "    ('R', 1, 'B'),\n",
    "    ('W', 1, 'B'),\n",
    "    ('R', 2, 'B'),\n",
    "    ('W', 2, 'B'),\n",
    "    ('R', 3, 'A'),\n",
    "    ('W', 4, 'A'),\n",
    "    ('R', 5, 'B'),\n",
    "    ('R', 1, 'C'),\n",
    "    ('R', 6, 'C'),\n",
    "    ('W', 8, 'A'),\n",
    "    ('W', 8, 'B')\n",
    "]\n",
    "\n",
    "graph = nx.DiGraph()\n",
    "graph.add_edges_from([(1, 2), (1, 3), (1, 4), (1, 5), (1, 8), (2, 3), (2, 4), (2, 5), (2, 8), (5, 8), (7, 1)])\n",
    "\n",
    "# Visualize the graph using PyGraphViz\n",
    "agraph = to_agraph(graph)\n",
    "filename = os.path.join(asset_dir, f\"dependency_graph.png\")\n",
    "agraph.draw(filename, format=\"png\", prog=\"dot\")\n",
    "display(Image(filename=filename))\n",
    "\n",
    "serial_schedule, cycle_exists"
   ],
   "id": "e2016b9896202aa3",
   "execution_count": 26,
   "outputs": []
  },
  {
   "metadata": {
    "ExecuteTime": {
     "end_time": "2024-05-24T12:46:55.033627Z",
     "start_time": "2024-05-24T12:46:55.032525Z"
    }
   },
   "cell_type": "code",
   "source": "",
   "id": "2ec2bb17c4f71ee4",
   "execution_count": 21,
   "outputs": []
  },
  {
   "metadata": {
    "ExecuteTime": {
     "end_time": "2024-05-24T12:46:55.035103Z",
     "start_time": "2024-05-24T12:46:55.034057Z"
    }
   },
   "cell_type": "code",
   "source": "",
   "id": "4674e1a39890ca79",
   "execution_count": 21,
   "outputs": []
  },
  {
   "metadata": {
    "ExecuteTime": {
     "end_time": "2024-05-24T12:46:55.036876Z",
     "start_time": "2024-05-24T12:46:55.035494Z"
    }
   },
   "cell_type": "code",
   "source": "",
   "id": "902309dad28e85b3",
   "execution_count": 21,
   "outputs": []
  }
 ],
 "metadata": {
  "kernelspec": {
   "display_name": "Python 3",
   "language": "python",
   "name": "python3"
  },
  "language_info": {
   "codemirror_mode": {
    "name": "ipython",
    "version": 2
   },
   "file_extension": ".py",
   "mimetype": "text/x-python",
   "name": "python",
   "nbconvert_exporter": "python",
   "pygments_lexer": "ipython2",
   "version": "2.7.6"
  }
 },
 "nbformat": 4,
 "nbformat_minor": 5
}
